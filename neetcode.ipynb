{
 "cells": [
  {
   "cell_type": "code",
   "execution_count": 5,
   "metadata": {},
   "outputs": [
    {
     "name": "stdout",
     "output_type": "stream",
     "text": [
      "defaultdict(<class 'list'>, {'act': ['act', 'cat'], 'opst': ['pots', 'tops', 'stop'], 'aht': ['hat']})\n"
     ]
    }
   ],
   "source": [
    "# group anagrams\n",
    "\n",
    "from collections import defaultdict\n",
    "\n",
    "strs = [\"act\",\"pots\",\"tops\",\"cat\",\"stop\",\"hat\"]\n",
    "\n",
    "anag_d=defaultdict(list)\n",
    "\n",
    "for i in strs:\n",
    "    j=''.join(sorted(i))\n",
    "    anag_d[j].append(i)\n",
    "\n",
    "\n",
    "print(anag_d)\n"
   ]
  },
  {
   "cell_type": "code",
   "execution_count": 22,
   "metadata": {},
   "outputs": [
    {
     "name": "stdout",
     "output_type": "stream",
     "text": [
      "[['act', 'cat'], ['pots', 'tops', 'stop'], ['hat']]\n"
     ]
    }
   ],
   "source": [
    "s=[\"act\",\"pots\",\"tops\",\"cat\",\"stop\",\"hat\"]\n",
    "d={}\n",
    "for s in strs:\n",
    "    sa=''.join(sorted(s))\n",
    "    # for key, value in d.items():\n",
    "    if sa not in d:\n",
    "        d[sa]=[s]\n",
    "    else:\n",
    "        d[sa].append(s)\n",
    "    \n",
    "print(list(d.values()))\n",
    "\n",
    "# print(d)\n"
   ]
  },
  {
   "cell_type": "code",
   "execution_count": 31,
   "metadata": {},
   "outputs": [
    {
     "name": "stdout",
     "output_type": "stream",
     "text": [
      "[['act', 'cat'], ['pots', 'tops', 'stop'], ['hat']]\n"
     ]
    }
   ],
   "source": [
    "strs = [\"act\",\"pots\",\"tops\",\"cat\",\"stop\",\"hat\"]\n",
    "\n",
    "d={}\n",
    "ordanag_d=defaultdict(list)\n",
    "\n",
    "for s in strs:\n",
    "    count=[0]*26\n",
    "    for i in s:\n",
    "        count[ord(i)-ord('a')]+=1\n",
    "    ordanag_d[tuple(count)].append(s)\n",
    "\n",
    "\n",
    "print(list(ordanag_d.values()))\n",
    "        \n",
    "    "
   ]
  },
  {
   "cell_type": "code",
   "execution_count": 34,
   "metadata": {},
   "outputs": [
    {
     "name": "stdout",
     "output_type": "stream",
     "text": [
      "[['act', 'cat'], ['pots', 'tops', 'stop'], ['hat']]\n"
     ]
    }
   ],
   "source": [
    "strs = [\"act\",\"pots\",\"tops\",\"cat\",\"stop\",\"hat\"]\n",
    "\n",
    "d={}\n",
    "\n",
    "for s in strs:\n",
    "    count=[0]*26\n",
    "    for i in s:\n",
    "        count[ord(i)-ord('a')]+=1\n",
    "    if tuple(count) not in d:\n",
    "        d[tuple(count)]=[s]\n",
    "    else:\n",
    "        d[tuple(count)].append(s)\n",
    "\n",
    "print(list(d.values()))"
   ]
  },
  {
   "cell_type": "code",
   "execution_count": 45,
   "metadata": {},
   "outputs": [],
   "source": [
    "from typing import List\n",
    "from collections import Counter\n",
    "\n",
    "class Solution:\n",
    "    def topKFrequent(self, nums: List[int], k: int) -> List[int]:\n",
    "        d={}\n",
    "        for i in nums:\n",
    "            if i not in d:\n",
    "                d[i]=1\n",
    "            else:\n",
    "                d[i]+=1\n",
    "        sortd=dict(sorted(d.items(), key=lambda item:-item[1]))\n",
    "        return (list(sortd.keys())[:k])"
   ]
  },
  {
   "cell_type": "code",
   "execution_count": 46,
   "metadata": {},
   "outputs": [
    {
     "name": "stdout",
     "output_type": "stream",
     "text": [
      "[1, 2]\n"
     ]
    }
   ],
   "source": [
    "def main():\n",
    "    # Input data\n",
    "    nums = [1, 1, 1, 2, 2, 3]\n",
    "    k = 2\n",
    "\n",
    "    # Create an instance of the Solution class\n",
    "    solution = Solution()\n",
    "\n",
    "    # Call the method and get the result\n",
    "    result = solution.topKFrequent(nums, k)\n",
    "\n",
    "    print(result)\n",
    "\n",
    "# Execute the main function\n",
    "if __name__ == \"__main__\":\n",
    "    main()"
   ]
  }
 ],
 "metadata": {
  "kernelspec": {
   "display_name": "Python 3",
   "language": "python",
   "name": "python3"
  },
  "language_info": {
   "codemirror_mode": {
    "name": "ipython",
    "version": 3
   },
   "file_extension": ".py",
   "mimetype": "text/x-python",
   "name": "python",
   "nbconvert_exporter": "python",
   "pygments_lexer": "ipython3",
   "version": "3.11.10"
  }
 },
 "nbformat": 4,
 "nbformat_minor": 2
}
