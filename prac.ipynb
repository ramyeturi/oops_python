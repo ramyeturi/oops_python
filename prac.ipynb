{
 "cells": [
  {
   "cell_type": "code",
   "execution_count": 2,
   "metadata": {},
   "outputs": [
    {
     "name": "stdout",
     "output_type": "stream",
     "text": [
      "True\n",
      "False\n"
     ]
    }
   ],
   "source": [
    "def check_startswith(sentence):\n",
    "    # Your code here\n",
    "    return sentence.startswith('Hello')\n",
    "    pass\n",
    "\n",
    "# Example\n",
    "print(check_startswith(\"Hello, world!\"))  # True\n",
    "print(check_startswith(\"Hi there!\"))     # False\n"
   ]
  },
  {
   "cell_type": "code",
   "execution_count": 4,
   "metadata": {},
   "outputs": [
    {
     "name": "stdout",
     "output_type": "stream",
     "text": [
      "Text file\n",
      "Not a text file\n"
     ]
    }
   ],
   "source": [
    "def check_file_extension(filename):\n",
    "    # Your code here\n",
    "    if filename.endswith('txt'):\n",
    "        print('Text file')\n",
    "    else:\n",
    "        print('Not a text file')\n",
    "    pass\n",
    "\n",
    "# Example\n",
    "check_file_extension(\"document.txt\")  # Output: Text file\n",
    "check_file_extension(\"image.jpg\")    # Output: Not a text file\n"
   ]
  },
  {
   "cell_type": "code",
   "execution_count": 5,
   "metadata": {},
   "outputs": [
    {
     "name": "stdout",
     "output_type": "stream",
     "text": [
      "bar is cool, bar is life.\n"
     ]
    }
   ],
   "source": [
    "def replace_text(string):\n",
    "    # Your code here\n",
    "    return string.replace('foo','bar')\n",
    "    pass\n",
    "\n",
    "# Example\n",
    "print(replace_text(\"foo is cool, foo is life.\"))  \n",
    "# Output: \"bar is cool, bar is life.\"\n"
   ]
  },
  {
   "cell_type": "code",
   "execution_count": 6,
   "metadata": {},
   "outputs": [
    {
     "name": "stdout",
     "output_type": "stream",
     "text": [
      "True\n",
      "False\n"
     ]
    }
   ],
   "source": [
    "def check_uppercase(string):\n",
    "    # Your code here\n",
    "    if string.isupper():\n",
    "        return True\n",
    "    else:\n",
    "        return False\n",
    "    pass\n",
    "\n",
    "# Example\n",
    "print(check_uppercase(\"HELLO\"))  # True\n",
    "print(check_uppercase(\"Hello\"))  # False\n",
    "\n"
   ]
  },
  {
   "cell_type": "code",
   "execution_count": 13,
   "metadata": {},
   "outputs": [
    {
     "name": "stdout",
     "output_type": "stream",
     "text": [
      "4\n"
     ]
    }
   ],
   "source": [
    "def count_words(sentence):\n",
    "    # Your code here\n",
    "    return len(sentence.split(' '))\n",
    "    pass\n",
    "\n",
    "# Example\n",
    "print(count_words(\"Python programming is fun!\"))  # 4\n"
   ]
  },
  {
   "cell_type": "code",
   "execution_count": 15,
   "metadata": {},
   "outputs": [
    {
     "name": "stdout",
     "output_type": "stream",
     "text": [
      "True\n",
      "False\n"
     ]
    }
   ],
   "source": [
    "def is_valid_integer(string):\n",
    "    # Your code here\n",
    "    if string.isdigit():\n",
    "        return True\n",
    "    else:\n",
    "        return False\n",
    "    pass\n",
    "\n",
    "# Example\n",
    "print(is_valid_integer(\"12345\"))   # True\n",
    "print(is_valid_integer(\"12a45\"))  # False\n"
   ]
  },
  {
   "cell_type": "code",
   "execution_count": 16,
   "metadata": {},
   "outputs": [
    {
     "name": "stdout",
     "output_type": "stream",
     "text": [
      "7\n",
      "3\n"
     ]
    }
   ],
   "source": [
    "def find_substring(sentence):\n",
    "    # Your code here\n",
    "    return sentence.find('Python')\n",
    "    pass\n",
    "\n",
    "# Example\n",
    "print(find_substring(\"I love Python programming.\"))  # 7\n",
    "print(find_substring(\"No Python here.\"))             # 3\n"
   ]
  },
  {
   "cell_type": "code",
   "execution_count": 20,
   "metadata": {},
   "outputs": [
    {
     "name": "stdout",
     "output_type": "stream",
     "text": [
      "The Great Gatsby\n"
     ]
    }
   ],
   "source": [
    "def format_title(title):\n",
    "    # Your code here\n",
    "    return title.title()\n",
    "    pass\n",
    "\n",
    "# Example\n",
    "print(format_title(\"the great gatsby\"))  # \"The Great Gatsby\"\n"
   ]
  },
  {
   "cell_type": "code",
   "execution_count": 22,
   "metadata": {},
   "outputs": [
    {
     "name": "stdout",
     "output_type": "stream",
     "text": [
      "True\n",
      "False\n"
     ]
    }
   ],
   "source": [
    "def is_alpha_only(string):\n",
    "    # Your code here\n",
    "    if string.isalpha():\n",
    "        return True\n",
    "    else:\n",
    "        return False\n",
    "    pass\n",
    "\n",
    "# Example\n",
    "print(is_alpha_only(\"HelloWorld\"))  # True\n",
    "print(is_alpha_only(\"Hello123\"))   # False\n"
   ]
  },
  {
   "cell_type": "code",
   "execution_count": 23,
   "metadata": {},
   "outputs": [
    {
     "name": "stdout",
     "output_type": "stream",
     "text": [
      "Hi there!\n"
     ]
    }
   ],
   "source": [
    "def clean_string(user_input):\n",
    "    # Your code here\n",
    "    return user_input.strip()\n",
    "    pass\n",
    "\n",
    "# Example\n",
    "print(clean_string(\"   Hi there!   \"))  # \"Hi there!\"\n"
   ]
  },
  {
   "cell_type": "code",
   "execution_count": 32,
   "metadata": {},
   "outputs": [
    {
     "name": "stdout",
     "output_type": "stream",
     "text": [
      "28\n"
     ]
    }
   ],
   "source": [
    "def find_last_word(log):\n",
    "    # Your code here\n",
    "    return log.rfind('error')\n",
    "    pass\n",
    "\n",
    "# Example\n",
    "print(find_last_word(\"No error found, but another error occurred.\"))  # 34\n"
   ]
  },
  {
   "cell_type": "code",
   "execution_count": 33,
   "metadata": {},
   "outputs": [
    {
     "name": "stdout",
     "output_type": "stream",
     "text": [
      "True\n",
      "False\n"
     ]
    }
   ],
   "source": [
    "def only_whitespace(string):\n",
    "    # Your code here\n",
    "    return string.isspace()\n",
    "    pass\n",
    "\n",
    "# Example\n",
    "print(only_whitespace(\"    \"))  # True\n",
    "print(only_whitespace(\"Text\"))  # False\n"
   ]
  },
  {
   "cell_type": "code",
   "execution_count": null,
   "metadata": {},
   "outputs": [],
   "source": []
  }
 ],
 "metadata": {
  "kernelspec": {
   "display_name": "Python 3",
   "language": "python",
   "name": "python3"
  },
  "language_info": {
   "codemirror_mode": {
    "name": "ipython",
    "version": 3
   },
   "file_extension": ".py",
   "mimetype": "text/x-python",
   "name": "python",
   "nbconvert_exporter": "python",
   "pygments_lexer": "ipython3",
   "version": "undefined.undefined.undefined"
  }
 },
 "nbformat": 4,
 "nbformat_minor": 2
}
