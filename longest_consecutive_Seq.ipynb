{
 "cells": [
  {
   "cell_type": "code",
   "execution_count": 23,
   "metadata": {},
   "outputs": [
    {
     "name": "stdout",
     "output_type": "stream",
     "text": [
      "[0, 1, 3, 4, 5, 6, 7, 8, 9, -1]\n"
     ]
    }
   ],
   "source": [
    "nums = [9,1,4,7,3,-1,0,5,8,-1,6]\n",
    "mnumsor=list(set(nums))\n",
    "mnums=sorted(mnumsor)\n",
    "# count = 1\n",
    "# for i in range(len(mnums)):\n",
    "#     if mnums[i+1]-mnums[i]==1 and i<=len(mnums)-1:\n",
    "#         count+=1\n",
    "#     else:\n",
    "#         break\n",
    "print(mnumsor)"
   ]
  },
  {
   "cell_type": "code",
   "execution_count": 24,
   "metadata": {},
   "outputs": [],
   "source": [
    "from collections import defaultdict"
   ]
  },
  {
   "cell_type": "code",
   "execution_count": 30,
   "metadata": {},
   "outputs": [
    {
     "name": "stdout",
     "output_type": "stream",
     "text": [
      "7\n"
     ]
    }
   ],
   "source": [
    "nums = [9,1,4,7,3,-1,0,5,8,-1,6]\n",
    "\n",
    "dn=defaultdict(int)\n",
    "res=0\n",
    "\n",
    "for i in nums:\n",
    "    if not dn[i]:\n",
    "        dn[i]=dn[i+1]+dn[i-1]+1\n",
    "        res=dn[i]\n",
    "        dn[i-dn[i-1]]=dn[i]\n",
    "        dn[i+dn[i+1]]=dn[i]\n",
    "        res=max(res, dn[i])\n",
    "print(res)"
   ]
  },
  {
   "cell_type": "code",
   "execution_count": null,
   "metadata": {},
   "outputs": [],
   "source": []
  }
 ],
 "metadata": {
  "kernelspec": {
   "display_name": "Python 3",
   "language": "python",
   "name": "python3"
  },
  "language_info": {
   "codemirror_mode": {
    "name": "ipython",
    "version": 3
   },
   "file_extension": ".py",
   "mimetype": "text/x-python",
   "name": "python",
   "nbconvert_exporter": "python",
   "pygments_lexer": "ipython3",
   "version": "3.11.10"
  }
 },
 "nbformat": 4,
 "nbformat_minor": 2
}
